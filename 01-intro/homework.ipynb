{
 "cells": [
  {
   "cell_type": "code",
   "execution_count": 6,
   "id": "a9e3f743-063c-4324-be48-e2444b0de6cc",
   "metadata": {},
   "outputs": [],
   "source": [
    "import openai\n",
    "import os"
   ]
  },
  {
   "cell_type": "code",
   "execution_count": 4,
   "id": "7b5625c0-4e07-46ef-9c1b-513d6681fa3f",
   "metadata": {},
   "outputs": [],
   "source": [
    "from openai import OpenAI"
   ]
  },
  {
   "cell_type": "code",
   "execution_count": 5,
   "id": "6bf3d5ce-9653-4b9b-b1ff-9f3857a866ac",
   "metadata": {},
   "outputs": [],
   "source": [
    "client = OpenAI()"
   ]
  },
  {
   "cell_type": "code",
   "execution_count": 9,
   "id": "e986dd21-cb47-4516-abfd-02dce24ec16c",
   "metadata": {},
   "outputs": [],
   "source": [
    "response = client.chat.completions.create(\n",
    "    model='gpt-4o',\n",
    "        messages=[{\"role\":\"user\",\"content\":\"is it too late to join the course?\"}]\n",
    ")"
   ]
  },
  {
   "cell_type": "code",
   "execution_count": 12,
   "id": "bb8981e5-9480-4d16-93c9-fd9997b404fe",
   "metadata": {},
   "outputs": [
    {
     "data": {
      "text/plain": [
       "\"It's hard to say definitively without more context. The answer depends on several factors, such as:\\n\\n1. **Course Schedule:** Are you asking about a specific course with fixed start and end dates? If the course has already started, you may still be able to join late if the institution or instructor allows it.\\n\\n2. **Enrollment Policies:** Different institutions have various policies regarding late enrollments. Some may allow students to join late, possibly with certain conditions (e.g., catching up on missed work), while others may have strict deadlines.\\n\\n3. **Nature of the Course:** If it's a self-paced or ongoing course, like many online courses, you might be able to join at any time.\\n\\n4. **Available Resources:** Do you have access to necessary materials and support to catch up quickly if you join late?\\n\\nI recommend reaching out directly to the course provider, institution, or instructor to get a clear answer tailored to your specific situation. They can give you the best advice on whether it's feasible to join the course at this point.\""
      ]
     },
     "execution_count": 12,
     "metadata": {},
     "output_type": "execute_result"
    }
   ],
   "source": [
    "response.choices[0].message.content"
   ]
  }
 ],
 "metadata": {
  "kernelspec": {
   "display_name": "Python 3 (ipykernel)",
   "language": "python",
   "name": "python3"
  },
  "language_info": {
   "codemirror_mode": {
    "name": "ipython",
    "version": 3
   },
   "file_extension": ".py",
   "mimetype": "text/x-python",
   "name": "python",
   "nbconvert_exporter": "python",
   "pygments_lexer": "ipython3",
   "version": "3.10.13"
  }
 },
 "nbformat": 4,
 "nbformat_minor": 5
}
